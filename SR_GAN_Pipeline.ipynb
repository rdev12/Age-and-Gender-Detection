{
  "nbformat": 4,
  "nbformat_minor": 0,
  "metadata": {
    "colab": {
      "name": "SR Pipeline",
      "provenance": [],
      "collapsed_sections": []
    },
    "kernelspec": {
      "name": "python3",
      "display_name": "Python 3"
    },
    "language_info": {
      "name": "python"
    }
  },
  "cells": [
    {
      "cell_type": "code",
      "source": [
        "import torch\n",
        "from torch import nn"
      ],
      "metadata": {
        "id": "2vJ_y4C2HzJe"
      },
      "execution_count": 1,
      "outputs": []
    },
    {
      "cell_type": "code",
      "execution_count": 4,
      "metadata": {
        "id": "MVvxdKm8HnQg"
      },
      "outputs": [],
      "source": [
        "class ConvBlock(nn.Module):\n",
        "    def __init__(\n",
        "        self,\n",
        "        in_channels,\n",
        "        out_channels,\n",
        "        discriminator=False,\n",
        "        use_act=True, #use activation \n",
        "        use_bn=True, #batch norm\n",
        "        **kwargs\n",
        "    ):\n",
        "        super().__init__()\n",
        "        self.use_act = use_act\n",
        "        self.cnn = nn.Conv2d(in_channels, out_channels, **kwargs, bias=not use_bn)\n",
        "        self.bn = nn.BatchNorm2d(out_channels) if use_bn else nn.Identity()\n",
        "        self.act = (\n",
        "            nn.LeakyReLU(0.2, inplace=True)\n",
        "            if discriminator\n",
        "            else nn.PReLU(num_parameters=out_channels)\n",
        "        )\n",
        "    \n",
        "    def forward(self, x):\n",
        "      return self.act(self.bn(self.cnn(x))) if self.use_act else self.bn(self.cnn(x))"
      ]
    },
    {
      "cell_type": "code",
      "source": [
        "class UpsampleBlock(nn.Module):\n",
        "  def __init__(self, in_c, scale_factor):\n",
        "    super().__init__()\n",
        "    self.conv = nn.Conv2d(in_c, in_c * scale_factor ** 2, 3, 1, 1)\n",
        "    self.ps = nn.PixelShuffle(scale_factor) #in_c * 4, H, W -> in_c, H*2, W*2\n",
        "    self.act = nn.PReLU(num_parameters=in_c)\n",
        "\n",
        "  def forward(self, x):\n",
        "    return self.act(self.ps(self.conv(x)))"
      ],
      "metadata": {
        "id": "O5z1YpqyH8Mw"
      },
      "execution_count": 5,
      "outputs": []
    },
    {
      "cell_type": "code",
      "source": [
        "class ResidualBlock(nn.Module):\n",
        "  def __init__(self, in_channels):\n",
        "    super().__init__()\n",
        "    self.block1 = ConvBlock(\n",
        "        in_channels,\n",
        "        in_channels,\n",
        "        kernel_size = 3,\n",
        "        stride = 1,\n",
        "        padding = 1\n",
        "    )\n",
        "\n",
        "    self.block2 = ConvBlock(\n",
        "        in_channels,\n",
        "        in_channels,\n",
        "        kernel_size = 3,\n",
        "        stride = 1,\n",
        "        padding = 1,\n",
        "        use_act = False\n",
        "    )\n",
        "\n",
        "  def forward(self, x):\n",
        "    out = self.block2(self.block1(x))\n",
        "    return out + x"
      ],
      "metadata": {
        "id": "7pN-bomhNyEE"
      },
      "execution_count": 6,
      "outputs": []
    },
    {
      "cell_type": "code",
      "source": [
        "class Generator(nn.Module):\n",
        "  "
      ],
      "metadata": {
        "colab": {
          "base_uri": "https://localhost:8080/",
          "height": 131
        },
        "id": "iLTX0SuqN2Nt",
        "outputId": "d7214042-bb1d-4b07-e65e-691635025aa7"
      },
      "execution_count": 7,
      "outputs": [
        {
          "output_type": "error",
          "ename": "SyntaxError",
          "evalue": "ignored",
          "traceback": [
            "\u001b[0;36m  File \u001b[0;32m\"<ipython-input-7-66da7537b601>\"\u001b[0;36m, line \u001b[0;32m1\u001b[0m\n\u001b[0;31m    class Generator(nn.Module):\u001b[0m\n\u001b[0m                               ^\u001b[0m\n\u001b[0;31mSyntaxError\u001b[0m\u001b[0;31m:\u001b[0m unexpected EOF while parsing\n"
          ]
        }
      ]
    },
    {
      "cell_type": "code",
      "source": [
        ""
      ],
      "metadata": {
        "id": "u9B6XkNTZRGY"
      },
      "execution_count": null,
      "outputs": []
    }
  ]
}